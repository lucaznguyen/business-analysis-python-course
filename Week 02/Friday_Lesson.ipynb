{
 "cells": [
  {
   "cell_type": "code",
   "execution_count": null,
   "id": "9c47285e",
   "metadata": {},
   "outputs": [
    {
     "data": {
      "text/plain": [
       "'\\nThis week we will study how to define a function\\n\\n1/ What is a function?\\nA function is a reusable block of code that performs a specific task.\\n\\n2/ Basic Syntax:\\n\\ndef function_name(parameters):\\n    \"\"\"docstring (optional)\"\"\"\\n    statement(s)\\n    return value (optional)\\n    \\n'"
      ]
     },
     "execution_count": 3,
     "metadata": {},
     "output_type": "execute_result"
    }
   ],
   "source": [
    "# Def utilities\n",
    "'''\n",
    "This week we will study how to define a function\n",
    "\n",
    "1/ What is a function?\n",
    "A function is a reusable block of code that performs a specific task.\n",
    "\n",
    "2/ Basic Syntax:\n",
    "\n",
    "def function_name(parameters):\n",
    "    \"\"\"\n",
    "    docstring (optional)\n",
    "    \"\"\"\n",
    "\n",
    "    statement(s)\n",
    "    \n",
    "    return value (optional)\n",
    "\n",
    "'''"
   ]
  },
  {
   "cell_type": "code",
   "execution_count": 21,
   "id": "55d2fd41",
   "metadata": {},
   "outputs": [
    {
     "name": "stdout",
     "output_type": "stream",
     "text": [
      "Zoe is beautiful\n",
      "Zoe is beautiful\n",
      "Zoe is beautiful\n"
     ]
    }
   ],
   "source": [
    "# Example 1: A simple function with no parameters and no return value\n",
    "def greet():\n",
    "    # print(\"Hello, welcome to learning functions!\")\n",
    "    print(f\"Zoe is beautiful\")\n",
    "\n",
    "greet()\n",
    "greet()\n",
    "greet()"
   ]
  },
  {
   "cell_type": "code",
   "execution_count": null,
   "id": "87379215",
   "metadata": {},
   "outputs": [
    {
     "name": "stdout",
     "output_type": "stream",
     "text": [
      "The sum of 3 and 9 is 12\n"
     ]
    }
   ],
   "source": [
    "# Example 2: Function with parameters\n",
    "def add(a, b): # General formula\n",
    "    result = a + b\n",
    "    print(f\"The sum of {a} and {b} is {result}\") # <- rarely use\n",
    "\n",
    "add(3, 9)"
   ]
  },
  {
   "cell_type": "code",
   "execution_count": 25,
   "id": "81960bf6",
   "metadata": {},
   "outputs": [
    {
     "name": "stdout",
     "output_type": "stream",
     "text": [
      "Product: 24\n"
     ]
    }
   ],
   "source": [
    "# Example 3: Function with return value\n",
    "def multiply(x, y):\n",
    "    m = x * y\n",
    "    return m\n",
    "\n",
    "product = multiply(4, 6)\n",
    "print(f\"Product: {product}\")"
   ]
  },
  {
   "cell_type": "code",
   "execution_count": 26,
   "id": "fcb49685",
   "metadata": {},
   "outputs": [
    {
     "name": "stdout",
     "output_type": "stream",
     "text": [
      "9\n"
     ]
    }
   ],
   "source": [
    "def add(a, b):\n",
    "    n = a + b\n",
    "    return n\n",
    "\n",
    "sum = add(4, 5)\n",
    "print(sum)"
   ]
  },
  {
   "cell_type": "code",
   "execution_count": null,
   "id": "6537caf9",
   "metadata": {},
   "outputs": [
    {
     "name": "stdout",
     "output_type": "stream",
     "text": [
      "81\n",
      "8\n"
     ]
    }
   ],
   "source": [
    "# Example 4: Function with default parameter values\n",
    "def power(base, exponent=2):\n",
    "    \"\"\"\n",
    "    Return exponent of a base\n",
    "    \"\"\"\n",
    "    return base ** exponent\n",
    "\n",
    "print(power(9))      # Uses default exponent=2\n",
    "print(power(2, 3))   # Overrides default"
   ]
  },
  {
   "cell_type": "code",
   "execution_count": null,
   "id": "45a240cf",
   "metadata": {},
   "outputs": [],
   "source": [
    "# Example 5: Function with docstring\n",
    "def square(n):\n",
    "    \"\"\"\n",
    "    n: a float number\n",
    "    \n",
    "    Returns the square of a number n.\n",
    "    \"\"\"\n",
    "    return n * n\n",
    "\n",
    "print(square(7))"
   ]
  },
  {
   "cell_type": "code",
   "execution_count": 37,
   "id": "7d8bfc2f",
   "metadata": {},
   "outputs": [
    {
     "name": "stdout",
     "output_type": "stream",
     "text": [
      "55\n"
     ]
    }
   ],
   "source": [
    "# Exercise 1: Write a function having n is an integer, return a sum of 1+2+3+..+n\n",
    "\n",
    "def sum_total(n):\n",
    "    s = 0\n",
    "    for i in range(1, n+1):\n",
    "        s = s + i\n",
    "\n",
    "    return s\n",
    "    \n",
    "print(sum_total(10))"
   ]
  },
  {
   "cell_type": "code",
   "execution_count": null,
   "id": "3241af31",
   "metadata": {},
   "outputs": [],
   "source": [
    "# Xercise Write a function having a, b is two integers, return a value of k = a - b"
   ]
  },
  {
   "cell_type": "code",
   "execution_count": null,
   "id": "736a0233",
   "metadata": {},
   "outputs": [],
   "source": [
    "# Exercise 3: Write a function having a, b, c is three integers\n",
    "# return a value of lucaz = a^b + c*a"
   ]
  },
  {
   "cell_type": "code",
   "execution_count": null,
   "id": "7af8413b",
   "metadata": {},
   "outputs": [],
   "source": [
    "# Exercise: parameter n\n",
    "# calculate 1*2*...*n"
   ]
  }
 ],
 "metadata": {
  "kernelspec": {
   "display_name": "base",
   "language": "python",
   "name": "python3"
  },
  "language_info": {
   "codemirror_mode": {
    "name": "ipython",
    "version": 3
   },
   "file_extension": ".py",
   "mimetype": "text/x-python",
   "name": "python",
   "nbconvert_exporter": "python",
   "pygments_lexer": "ipython3",
   "version": "3.10.9"
  }
 },
 "nbformat": 4,
 "nbformat_minor": 5
}
