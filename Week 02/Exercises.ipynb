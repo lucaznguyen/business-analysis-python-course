{
 "cells": [
  {
   "cell_type": "code",
   "execution_count": null,
   "id": "e764536e",
   "metadata": {},
   "outputs": [],
   "source": [
    "# ============================================================\n",
    "# 1‑01 👋 Return a Fixed Greeting\n",
    "# ------------------------------------------------------------\n",
    "# Define a function `greet()` that returns the string \"Hello, world!\".\n",
    "# \n",
    "# Example:\n",
    "# >>> greet()\n",
    "# 'Hello, world!'\n",
    "# ============================================================\n"
   ]
  },
  {
   "cell_type": "code",
   "execution_count": null,
   "id": "88e9c9d6",
   "metadata": {},
   "outputs": [],
   "source": [
    "# ============================================================\n",
    "# 1‑02 🔢 Square a Number\n",
    "# ------------------------------------------------------------\n",
    "# Define a function `square(x)` that takes an integer `x` and returns its square.\n",
    "# \n",
    "# Example:\n",
    "# >>> square(4)\n",
    "# 16\n",
    "# ============================================================\n"
   ]
  },
  {
   "cell_type": "code",
   "execution_count": null,
   "id": "dbf90461",
   "metadata": {},
   "outputs": [],
   "source": [
    "# ============================================================\n",
    "# 1‑03 ➕ Sum Two Numbers\n",
    "# ------------------------------------------------------------\n",
    "# Define a function `add(a, b)` that returns the sum of two numbers `a` and `b`.\n",
    "# \n",
    "# Example:\n",
    "# >>> add(5, 7)\n",
    "# 12\n",
    "# ============================================================\n"
   ]
  },
  {
   "cell_type": "code",
   "execution_count": null,
   "id": "ec7b7426",
   "metadata": {},
   "outputs": [],
   "source": [
    "# ============================================================\n",
    "# 1‑04 🔄 Check if a Number is Even\n",
    "# ------------------------------------------------------------\n",
    "# Define a function `is_even(n)` that returns True if `n` is even, and False otherwise.\n",
    "# \n",
    "# Example:\n",
    "# >>> is_even(6)\n",
    "# True\n",
    "# >>> is_even(3)\n",
    "# False\n",
    "# ============================================================\n"
   ]
  },
  {
   "cell_type": "code",
   "execution_count": null,
   "id": "025ec2bc",
   "metadata": {},
   "outputs": [],
   "source": [
    "# ============================================================\n",
    "# 2‑01 🧮 Absolute Value\n",
    "# ------------------------------------------------------------\n",
    "# Define a function `absolute(x)` that returns the absolute value of `x`.\n",
    "# \n",
    "# Example:\n",
    "# >>> absolute(-7)\n",
    "# 7\n",
    "# >>> absolute(5)\n",
    "# 5\n",
    "# ============================================================\n"
   ]
  },
  {
   "cell_type": "code",
   "execution_count": null,
   "id": "14f9fcb3",
   "metadata": {},
   "outputs": [],
   "source": [
    "# ============================================================\n",
    "# 2‑02 🔁 Sum from 1 to N\n",
    "# ------------------------------------------------------------\n",
    "# Define a function `sum_to_n(n)` that returns the sum of all integers from 1 to `n`.\n",
    "# \n",
    "# Example:\n",
    "# >>> sum_to_n(5)\n",
    "# 15  # (1+2+3+4+5)\n",
    "# ============================================================\n"
   ]
  },
  {
   "cell_type": "code",
   "execution_count": null,
   "id": "0f1465ba",
   "metadata": {},
   "outputs": [],
   "source": [
    "# ============================================================\n",
    "# 2‑03 ⚖️ Compare Two Numbers\n",
    "# ------------------------------------------------------------\n",
    "# Define a function `compare(a, b)` that returns:\n",
    "# - \"a is greater\" if a > b\n",
    "# - \"b is greater\" if b > a\n",
    "# - \"equal\" if they are the same\n",
    "# \n",
    "# Example:\n",
    "# >>> compare(3, 4)\n",
    "# 'b is greater'\n",
    "# ============================================================\n"
   ]
  },
  {
   "cell_type": "code",
   "execution_count": null,
   "id": "e31a6489",
   "metadata": {},
   "outputs": [],
   "source": [
    "# ============================================================\n",
    "# 2‑04 🧍 Count Even Numbers Up to N\n",
    "# ------------------------------------------------------------\n",
    "# Define a function `count_evens(n)` that returns the number of even integers from 1 to `n`.\n",
    "# \n",
    "# Example:\n",
    "# >>> count_evens(10)\n",
    "# 5  # evens: 2, 4, 6, 8, 10\n",
    "# ============================================================\n"
   ]
  },
  {
   "cell_type": "code",
   "execution_count": null,
   "id": "f5066522",
   "metadata": {},
   "outputs": [],
   "source": [
    "# ============================================================\n",
    "# 2‑05 🔃 Multiplication Table\n",
    "# ------------------------------------------------------------\n",
    "# Define a function `times_table(n)` that prints the multiplication table of `n` from 1 to 10.\n",
    "# (Print inside the function.)\n",
    "# \n",
    "# Example:\n",
    "# >>> times_table(3)\n",
    "# 3 x 1 = 3\n",
    "# ...\n",
    "# 3 x 10 = 30\n",
    "# ============================================================\n"
   ]
  },
  {
   "cell_type": "code",
   "execution_count": null,
   "id": "4bdb6734",
   "metadata": {},
   "outputs": [],
   "source": [
    "# ============================================================\n",
    "# 2‑06 📉 Count Down\n",
    "# ------------------------------------------------------------\n",
    "# Define a function `countdown(n)` that prints numbers from `n` to 1.\n",
    "# \n",
    "# Example:\n",
    "# >>> countdown(5)\n",
    "# 5\n",
    "# 4\n",
    "# 3\n",
    "# 2\n",
    "# 1\n",
    "# ============================================================\n"
   ]
  },
  {
   "cell_type": "code",
   "execution_count": null,
   "id": "70eab00d",
   "metadata": {},
   "outputs": [],
   "source": [
    "# ============================================================\n",
    "# 2‑07 🔍 Is Divisible by 3 and 5\n",
    "# ------------------------------------------------------------\n",
    "# Define a function `divisible_by_3_and_5(x)` that returns True if `x` is divisible by both 3 and 5.\n",
    "# \n",
    "# Example:\n",
    "# >>> divisible_by_3_and_5(15)\n",
    "# True\n",
    "# >>> divisible_by_3_and_5(10)\n",
    "# False\n",
    "# ============================================================\n"
   ]
  },
  {
   "cell_type": "code",
   "execution_count": null,
   "id": "e8c94568",
   "metadata": {},
   "outputs": [],
   "source": [
    "# ============================================================\n",
    "# 2‑09 ⬆️ Max of Three Numbers\n",
    "# ------------------------------------------------------------\n",
    "# Define a function `maximum_of_three(a, b, c)` that returns the largest number among them.\n",
    "# \n",
    "# Example:\n",
    "# >>> maximum_of_three(5, 9, 3)\n",
    "# 9\n",
    "# ============================================================\n"
   ]
  },
  {
   "cell_type": "code",
   "execution_count": null,
   "id": "ebec1625",
   "metadata": {},
   "outputs": [],
   "source": [
    "# ============================================================\n",
    "# 2‑10 ➗ List All Divisors\n",
    "# ------------------------------------------------------------\n",
    "# Define a function `list_divisors(n)` that prints all positive integers that divide `n`.\n",
    "# \n",
    "# Example:\n",
    "# >>> list_divisors(12)\n",
    "# 1, 2, 3, 4, 6, 12\n",
    "# ============================================================\n"
   ]
  }
 ],
 "metadata": {
  "language_info": {
   "name": "python"
  }
 },
 "nbformat": 4,
 "nbformat_minor": 5
}
