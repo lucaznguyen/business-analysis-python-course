{
 "cells": [
  {
   "cell_type": "markdown",
   "id": "29f7aa69",
   "metadata": {},
   "source": [
    "# Numpy"
   ]
  },
  {
   "cell_type": "code",
   "execution_count": 33,
   "id": "1fc133fb",
   "metadata": {},
   "outputs": [
    {
     "name": "stdout",
     "output_type": "stream",
     "text": [
      "[1 2 3 4 5]\n"
     ]
    }
   ],
   "source": [
    "import numpy as np\n",
    "\n",
    "arr = np.array([1, 2, 3, 4, 5])\n",
    "print(arr)\n"
   ]
  },
  {
   "cell_type": "code",
   "execution_count": 15,
   "id": "fa071c2f",
   "metadata": {},
   "outputs": [
    {
     "name": "stdout",
     "output_type": "stream",
     "text": [
      "Kích thước array: (5,)\n",
      "Kiểu dữ liệu array: int64\n"
     ]
    }
   ],
   "source": [
    "print(\"Kích thước array:\", arr.shape)\n",
    "print(\"Kiểu dữ liệu array:\", arr.dtype)\n"
   ]
  },
  {
   "cell_type": "code",
   "execution_count": null,
   "id": "4a71e7ec",
   "metadata": {},
   "outputs": [],
   "source": [
    "arr_zero = np.zeros(5)       # [0,0,0,0,0]\n",
    "arr_one = np.ones(5)         # [1,1,1,1,1]\n",
    "arr_range = np.arange(1,10)  # [1,2,...,9]\n"
   ]
  },
  {
   "cell_type": "code",
   "execution_count": 20,
   "id": "487fbf20",
   "metadata": {},
   "outputs": [
    {
     "name": "stdout",
     "output_type": "stream",
     "text": [
      "Tổng: 15\n",
      "Trung bình: 3.0\n",
      "Max: 5\n",
      "Min: 1\n"
     ]
    }
   ],
   "source": [
    "print(\"Tổng:\", arr.sum())\n",
    "print(\"Trung bình:\", arr.mean())\n",
    "print(\"Max:\", arr.max())\n",
    "print(\"Min:\", arr.min())\n"
   ]
  },
  {
   "cell_type": "code",
   "execution_count": 29,
   "id": "db37af4b",
   "metadata": {},
   "outputs": [
    {
     "name": "stdout",
     "output_type": "stream",
     "text": [
      "1\n",
      "5\n",
      "[2 3 4]\n"
     ]
    }
   ],
   "source": [
    "print(arr[0])       # Phần tử đầu <- index\n",
    "print(arr[-1])      # Phần tử cuối\n",
    "print(arr[1:4])     # Phần tử từ vị trí 1 đến 3"
   ]
  },
  {
   "cell_type": "code",
   "execution_count": null,
   "id": "ab410812",
   "metadata": {},
   "outputs": [
    {
     "name": "stdout",
     "output_type": "stream",
     "text": [
      "Các số lớn hơn 15: [16 17 18 19 20]\n",
      "Tổng các số lớn hơn 15: 90\n"
     ]
    }
   ],
   "source": [
    "arr = np.arange(10,21)\n",
    "filtered_arr = arr[arr > 15]\n",
    "\n",
    "print(\"Các số lớn hơn 15:\", filtered_arr)\n",
    "print(\"Tổng các số lớn hơn 15:\", filtered_arr.sum())\n"
   ]
  },
  {
   "cell_type": "markdown",
   "id": "77e41856",
   "metadata": {},
   "source": [
    "# Pandas"
   ]
  },
  {
   "cell_type": "code",
   "execution_count": 43,
   "id": "11876e61",
   "metadata": {},
   "outputs": [
    {
     "name": "stdout",
     "output_type": "stream",
     "text": [
      "       Tên  Tuổi Quốc gia\n",
      "0     Anna    25       UK\n",
      "1      Bob    30      USA\n",
      "2  Charlie    35   Canada\n"
     ]
    }
   ],
   "source": [
    "import pandas as pd\n",
    "\n",
    "data = {\n",
    "    \"Tên\": [\"Anna\", \"Bob\", \"Charlie\"],\n",
    "    \"Tuổi\": [25, 30, 35],\n",
    "    \"Quốc gia\": [\"UK\", \"USA\", \"Canada\"]\n",
    "}\n",
    "\n",
    "df = pd.DataFrame(data)\n",
    "print(df)\n"
   ]
  },
  {
   "cell_type": "code",
   "execution_count": 41,
   "id": "08f949c4",
   "metadata": {},
   "outputs": [
    {
     "name": "stdout",
     "output_type": "stream",
     "text": [
      "<class 'pandas.core.frame.DataFrame'>\n",
      "RangeIndex: 3 entries, 0 to 2\n",
      "Data columns (total 3 columns):\n",
      " #   Column    Non-Null Count  Dtype \n",
      "---  ------    --------------  ----- \n",
      " 0   Tên       3 non-null      object\n",
      " 1   Tuổi      3 non-null      int64 \n",
      " 2   Quốc gia  3 non-null      object\n",
      "dtypes: int64(1), object(2)\n",
      "memory usage: 204.0+ bytes\n"
     ]
    }
   ],
   "source": [
    "df.info()\n"
   ]
  },
  {
   "cell_type": "code",
   "execution_count": null,
   "id": "60b47c7e",
   "metadata": {},
   "outputs": [
    {
     "data": {
      "text/html": [
       "<div>\n",
       "<style scoped>\n",
       "    .dataframe tbody tr th:only-of-type {\n",
       "        vertical-align: middle;\n",
       "    }\n",
       "\n",
       "    .dataframe tbody tr th {\n",
       "        vertical-align: top;\n",
       "    }\n",
       "\n",
       "    .dataframe thead th {\n",
       "        text-align: right;\n",
       "    }\n",
       "</style>\n",
       "<table border=\"1\" class=\"dataframe\">\n",
       "  <thead>\n",
       "    <tr style=\"text-align: right;\">\n",
       "      <th></th>\n",
       "      <th>Tên</th>\n",
       "      <th>Tuổi</th>\n",
       "      <th>Quốc gia</th>\n",
       "    </tr>\n",
       "  </thead>\n",
       "  <tbody>\n",
       "    <tr>\n",
       "      <th>2</th>\n",
       "      <td>Charlie</td>\n",
       "      <td>35</td>\n",
       "      <td>Canada</td>\n",
       "    </tr>\n",
       "  </tbody>\n",
       "</table>\n",
       "</div>"
      ],
      "text/plain": [
       "       Tên  Tuổi Quốc gia\n",
       "2  Charlie    35   Canada"
      ]
     },
     "execution_count": 46,
     "metadata": {},
     "output_type": "execute_result"
    }
   ],
   "source": [
    "df.head(2)  # 2 dòng đầu\n",
    "df.tail(1)  # 1 dòng cuối\n"
   ]
  },
  {
   "cell_type": "code",
   "execution_count": 58,
   "id": "c0cca484",
   "metadata": {},
   "outputs": [
    {
     "name": "stdout",
     "output_type": "stream",
     "text": [
      "Bob\n"
     ]
    }
   ],
   "source": [
    "# print(df[\"Tên\"])       # Cột \"Tên\"\n",
    "# print(df.iloc[0])      # Dòng đầu tiên\n",
    "print(df.loc[1, \"Tên\"])  # Phần tử dòng 1 cột \"Tên\"\n"
   ]
  },
  {
   "cell_type": "code",
   "execution_count": 61,
   "id": "c7980e81",
   "metadata": {},
   "outputs": [
    {
     "name": "stdout",
     "output_type": "stream",
     "text": [
      "Sản phẩm giá trên 50:\n",
      "      Tên  Giá  Số lượng\n",
      "2  Laptop  800         5\n"
     ]
    }
   ],
   "source": [
    "import pandas as pd\n",
    "\n",
    "products = {\n",
    "    \"Tên\": [\"Sách\", \"Bút\", \"Laptop\", \"Tai nghe\"],\n",
    "    \"Giá\": [40, 10, 800, 50],\n",
    "    \"Số lượng\": [100, 200, 5, 10]\n",
    "}\n",
    "\n",
    "df = pd.DataFrame(products)\n",
    "\n",
    "# Lọc sản phẩm giá > 50\n",
    "df_high_price = df[df[\"Giá\"] > 50]\n",
    "print(\"Sản phẩm giá trên 50:\")\n",
    "print(df_high_price)\n"
   ]
  },
  {
   "cell_type": "code",
   "execution_count": null,
   "id": "591e567e",
   "metadata": {},
   "outputs": [],
   "source": [
    "df.to_csv(\"products.csv\", index=False) # lưu file csv\n"
   ]
  },
  {
   "cell_type": "code",
   "execution_count": null,
   "id": "e23882f1",
   "metadata": {},
   "outputs": [
    {
     "name": "stdout",
     "output_type": "stream",
     "text": [
      "        Tên  Giá  Số lượng\n",
      "0      Sách   40       100\n",
      "1       Bút   10       200\n",
      "2    Laptop  800         5\n",
      "3  Tai nghe   50        10\n"
     ]
    }
   ],
   "source": [
    "df_read = pd.read_csv(\"products.csv\") # đọc file csv\n",
    "print(df_read)"
   ]
  }
 ],
 "metadata": {
  "kernelspec": {
   "display_name": "base",
   "language": "python",
   "name": "python3"
  },
  "language_info": {
   "codemirror_mode": {
    "name": "ipython",
    "version": 3
   },
   "file_extension": ".py",
   "mimetype": "text/x-python",
   "name": "python",
   "nbconvert_exporter": "python",
   "pygments_lexer": "ipython3",
   "version": "3.13.5"
  }
 },
 "nbformat": 4,
 "nbformat_minor": 5
}
