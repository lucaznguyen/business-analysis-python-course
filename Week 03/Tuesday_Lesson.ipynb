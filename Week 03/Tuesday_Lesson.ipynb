{
 "cells": [
  {
   "cell_type": "markdown",
   "id": "29f7aa69",
   "metadata": {},
   "source": [
    "# Numpy"
   ]
  },
  {
   "cell_type": "code",
   "execution_count": null,
   "id": "1fc133fb",
   "metadata": {},
   "outputs": [],
   "source": [
    "import numpy as np\n",
    "\n",
    "arr = np.array([1, 2, 3, 4, 5])\n",
    "print(arr)\n"
   ]
  },
  {
   "cell_type": "code",
   "execution_count": null,
   "id": "fa071c2f",
   "metadata": {},
   "outputs": [],
   "source": [
    "print(\"Kích thước array:\", arr.shape)\n",
    "print(\"Kiểu dữ liệu array:\", arr.dtype)\n"
   ]
  },
  {
   "cell_type": "code",
   "execution_count": null,
   "id": "4a71e7ec",
   "metadata": {},
   "outputs": [],
   "source": [
    "arr_zero = np.zeros(5)       # [0,0,0,0,0]\n",
    "arr_one = np.ones(5)         # [1,1,1,1,1]\n",
    "arr_range = np.arange(1,10)  # [1,2,...,9]\n"
   ]
  },
  {
   "cell_type": "code",
   "execution_count": null,
   "id": "487fbf20",
   "metadata": {},
   "outputs": [],
   "source": [
    "print(\"Tổng:\", arr.sum())\n",
    "print(\"Trung bình:\", arr.mean())\n",
    "print(\"Max:\", arr.max())\n",
    "print(\"Min:\", arr.min())\n"
   ]
  },
  {
   "cell_type": "code",
   "execution_count": null,
   "id": "db37af4b",
   "metadata": {},
   "outputs": [],
   "source": [
    "print(arr[0])       # Phần tử đầu\n",
    "print(arr[-1])      # Phần tử cuối\n",
    "print(arr[1:4])     # Phần tử từ vị trí 1 đến 3\n"
   ]
  },
  {
   "cell_type": "code",
   "execution_count": null,
   "id": "ab410812",
   "metadata": {},
   "outputs": [],
   "source": [
    "arr = np.arange(10,21)\n",
    "filtered_arr = arr[arr > 15]\n",
    "\n",
    "print(\"Các số lớn hơn 15:\", filtered_arr)\n",
    "print(\"Tổng các số lớn hơn 15:\", filtered_arr.sum())\n"
   ]
  },
  {
   "cell_type": "markdown",
   "id": "77e41856",
   "metadata": {},
   "source": [
    "# Pandas"
   ]
  },
  {
   "cell_type": "code",
   "execution_count": null,
   "id": "11876e61",
   "metadata": {},
   "outputs": [],
   "source": [
    "import pandas as pd\n",
    "\n",
    "data = {\n",
    "    \"Tên\": [\"Anna\", \"Bob\", \"Charlie\"],\n",
    "    \"Tuổi\": [25, 30, 35],\n",
    "    \"Quốc gia\": [\"UK\", \"USA\", \"Canada\"]\n",
    "}\n",
    "\n",
    "df = pd.DataFrame(data)\n",
    "print(df)\n"
   ]
  },
  {
   "cell_type": "code",
   "execution_count": null,
   "id": "08f949c4",
   "metadata": {},
   "outputs": [],
   "source": [
    "df.info()\n"
   ]
  },
  {
   "cell_type": "code",
   "execution_count": null,
   "id": "60b47c7e",
   "metadata": {},
   "outputs": [],
   "source": [
    "df.head(2)  # 2 dòng đầu\n",
    "df.tail(1)  # 1 dòng cuối\n"
   ]
  },
  {
   "cell_type": "code",
   "execution_count": null,
   "id": "c0cca484",
   "metadata": {},
   "outputs": [],
   "source": [
    "print(df[\"Tên\"])       # Cột \"Tên\"\n",
    "print(df.iloc[0])      # Dòng đầu tiên\n",
    "print(df.loc[1, \"Tên\"])  # Phần tử dòng 1 cột \"Tên\"\n"
   ]
  },
  {
   "cell_type": "code",
   "execution_count": null,
   "id": "c7980e81",
   "metadata": {},
   "outputs": [],
   "source": [
    "import pandas as pd\n",
    "\n",
    "products = {\n",
    "    \"Tên\": [\"Sách\", \"Bút\", \"Laptop\", \"Tai nghe\"],\n",
    "    \"Giá\": [40, 10, 800, 50],\n",
    "    \"Số lượng\": [100, 200, 5, 10]\n",
    "}\n",
    "\n",
    "df = pd.DataFrame(products)\n",
    "\n",
    "# Lọc sản phẩm giá > 50\n",
    "df_high_price = df[df[\"Giá\"] > 50]\n",
    "print(\"Sản phẩm giá trên 50:\")\n",
    "print(df_high_price)\n"
   ]
  },
  {
   "cell_type": "code",
   "execution_count": null,
   "id": "591e567e",
   "metadata": {},
   "outputs": [],
   "source": [
    "df.to_csv(\"products.csv\", index=False)\n"
   ]
  },
  {
   "cell_type": "code",
   "execution_count": null,
   "id": "e23882f1",
   "metadata": {},
   "outputs": [],
   "source": [
    "df_read = pd.read_csv(\"products.csv\")\n",
    "print(df_read)\n"
   ]
  }
 ],
 "metadata": {
  "kernelspec": {
   "display_name": "base",
   "language": "python",
   "name": "python3"
  },
  "language_info": {
   "codemirror_mode": {
    "name": "ipython",
    "version": 3
   },
   "file_extension": ".py",
   "mimetype": "text/x-python",
   "name": "python",
   "nbconvert_exporter": "python",
   "pygments_lexer": "ipython3",
   "version": "3.13.5"
  }
 },
 "nbformat": 4,
 "nbformat_minor": 5
}
