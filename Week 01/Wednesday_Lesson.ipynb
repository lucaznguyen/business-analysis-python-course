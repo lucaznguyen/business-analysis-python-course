{
 "cells": [
  {
   "cell_type": "code",
   "execution_count": null,
   "id": "d518461b",
   "metadata": {},
   "outputs": [],
   "source": [
    "# Variable Types in Python\n",
    "\n",
    "x = 10            # integer\n",
    "y = 10.5          # float"
   ]
  },
  {
   "cell_type": "code",
   "execution_count": null,
   "id": "e89b1b12",
   "metadata": {},
   "outputs": [],
   "source": [
    "# Strings in Python\n",
    "\n",
    "name = \"Business Analysis\"        # string in double quotes\n",
    "course = 'University of Law'      # string in single quotes"
   ]
  },
  {
   "cell_type": "code",
   "execution_count": 11,
   "id": "7bd026b2",
   "metadata": {},
   "outputs": [],
   "source": [
    "# Boolean Values in Python \n",
    "# (True or False)\n",
    "\n",
    "is_student = True                  # boolean <- correct value\n",
    "is_graduate = False                # boolean <- incorrect value"
   ]
  },
  {
   "cell_type": "code",
   "execution_count": null,
   "id": "a9157f81",
   "metadata": {},
   "outputs": [],
   "source": [
    "# Lists in Python\n",
    "# (Ordered collection of items)\n",
    "\n",
    "fruits = [\"apple\", \"banana\", \"cherry\"]  # list of strings\n",
    "vegetables = ['carrot', 'broccoli', 'spinach']  # list of strings\n",
    "\n",
    "numbers = [1, 2, 3, 4, 5]          # list of integers\n",
    "mixed_list = [1, \"apple\", 3.14, True]  # list with mixed types"
   ]
  },
  {
   "cell_type": "code",
   "execution_count": 14,
   "id": "3636db36",
   "metadata": {},
   "outputs": [],
   "source": [
    "# Dictionaries in Python\n",
    "# (Key-value pairs)\n",
    "\n",
    "# Each key can be a string (or other types) and each value can be any type\n",
    "# Example of a dictionary with various types\n",
    "\n",
    "person = {\n",
    "    \"name\": \"Zoe Vu\",          # string\n",
    "    \"age\": 24,                   # integer\n",
    "    \"is_student\": False,         # boolean\n",
    "    \"courses\": [\"Math\", \"Science\"],  # list of strings\n",
    "    \"is_stupid\": False,               # boolean\n",
    "    \"height\": 1.65,                # float\n",
    "    \"address\": {\n",
    "                \"city\": \"Hanoi\",         # string\n",
    "                \"country\": \"Vietnam\"     # string\n",
    "               },                        # nested dictionary\n",
    "    \"grades\": {\"Math\": 90, \"Science\": 85}  # dictionary with string keys and integer values\n",
    "}"
   ]
  },
  {
   "cell_type": "code",
   "execution_count": null,
   "id": "55f71efc",
   "metadata": {},
   "outputs": [],
   "source": [
    "# List of questions to ask about data types\n",
    "\n",
    "# Questions about Data Types\n",
    "\n",
    "# 1. What is the difference between an integer and a float in Python?\n",
    "# => An integer is a whole number without a decimal point, while a float is a number that can have a decimal point.\n",
    "\n",
    "# 2. How do you create a string in Python?\n",
    "# => You can create a string by enclosing text in either single quotes (' ') or double quotes (\" \").\n",
    "\n",
    "# 3. What are the two boolean values in Python?\n",
    "# => The two boolean values in Python are True and False.\n",
    "\n",
    "# 4. How do you create a list in Python?\n",
    "# 5. What is a dictionary in Python and how do you create one?"
   ]
  },
  {
   "cell_type": "code",
   "execution_count": 29,
   "id": "cf098809",
   "metadata": {},
   "outputs": [
    {
     "name": "stdout",
     "output_type": "stream",
     "text": [
      "10\n",
      "10.5\n",
      "Business Analysis\n",
      "University of Law\n",
      "True\n",
      "False\n",
      "['apple', 'banana', 'cherry']\n",
      "['carrot', 'broccoli', 'spinach']\n",
      "[1, 2, 3, 4, 5]\n",
      "[1, 'apple', 3.14, True]\n",
      "{'name': 'Zoe Vu', 'age': 24, 'is_student': False, 'courses': ['Math', 'Science'], 'is_stupid': False, 'height': 1.65, 'address': {'city': 'Hanoi', 'country': 'Vietnam'}, 'grades': {'Math': 90, 'Science': 85}}\n"
     ]
    }
   ],
   "source": [
    "print(x)\n",
    "print(y)\n",
    "print(name)\n",
    "print(course)\n",
    "print(is_student)\n",
    "print(is_graduate)\n",
    "print(fruits)\n",
    "print(vegetables)\n",
    "print(numbers)\n",
    "print(mixed_list)\n",
    "print(person)"
   ]
  },
  {
   "cell_type": "code",
   "execution_count": 40,
   "id": "5b768940",
   "metadata": {},
   "outputs": [
    {
     "name": "stdout",
     "output_type": "stream",
     "text": [
      "Sum: 7\n",
      "Difference: -1\n",
      "Product: 12\n",
      "Division: 0.75\n"
     ]
    }
   ],
   "source": [
    "# Operations on Data Types\n",
    "# Arithmetic Operations\n",
    "\n",
    "# Addition, Subtraction, Multiplication, Division\n",
    "a = 3\n",
    "b = 4\n",
    "sum_result = a + b          # Addition\n",
    "difference_result = a - b   # Subtraction\n",
    "product_result = a * b      # Multiplication\n",
    "division_result = a / b      # Division\n",
    "\n",
    "print(\"Sum:\", sum_result)\n",
    "print(\"Difference:\", difference_result)\n",
    "print(\"Product:\", product_result)\n",
    "print(\"Division:\", division_result)"
   ]
  },
  {
   "cell_type": "code",
   "execution_count": 41,
   "id": "615e0702",
   "metadata": {},
   "outputs": [
    {
     "name": "stdout",
     "output_type": "stream",
     "text": [
      "Modulus: 3\n",
      "Floor Division: 0\n",
      "Exponentiation: 81\n"
     ]
    }
   ],
   "source": [
    "# Other Arithmetic Operations\n",
    "modulus_result = a % b      # Modulus (remainder)\n",
    "floor_division_result = a // b  # Floor Division (quotient without remainder)\n",
    "\n",
    "exponent_result = a ** b    # Exponentiation (a raised to the power of b)\n",
    "\n",
    "print(\"Modulus:\", modulus_result)\n",
    "print(\"Floor Division:\", floor_division_result)\n",
    "print(\"Exponentiation:\", exponent_result)"
   ]
  },
  {
   "cell_type": "markdown",
   "id": "627d1af0",
   "metadata": {},
   "source": [
    "# Exercises"
   ]
  },
  {
   "cell_type": "code",
   "execution_count": null,
   "id": "b395299a",
   "metadata": {},
   "outputs": [],
   "source": [
    "# Exercise 01:\n",
    "\n",
    "# 1. Create a variable of each type (integer, float, string, boolean, list, dictionary).\n",
    "# 2. Print each variable and its type using the `type()` function.\n",
    "# 3. Create a list of your favorite fruits and print it.\n",
    "# 4. Create a dictionary with your personal information (name, age, hobbies) and print it."
   ]
  },
  {
   "cell_type": "code",
   "execution_count": null,
   "id": "8cd44ce1",
   "metadata": {},
   "outputs": [],
   "source": [
    "# Exercise 02:\n",
    "\n",
    "# 1. Modify the dictionary created in Exercise 01 to include your favorite color and a list of your hobbies.\n",
    "# 2. Print the updated dictionary.\n",
    "# 3. Create a list of your favorite movies and print it."
   ]
  },
  {
   "cell_type": "code",
   "execution_count": null,
   "id": "bc0d8f4b",
   "metadata": {},
   "outputs": [],
   "source": [
    "# Exercise 03: Math\n",
    "\n",
    "# 1. Create two variables with integer values.\n",
    "# 2. Perform addition, subtraction, multiplication, and division on these variables.\n",
    "# 3. Print the results of each operation.\n",
    "# 4. Perform modulus and floor division on these variables and print the results.\n",
    "# 5. Perform exponentiation on these variables and print the result."
   ]
  },
  {
   "cell_type": "code",
   "execution_count": null,
   "id": "4917e085",
   "metadata": {},
   "outputs": [],
   "source": [
    "# Exercise 04: Lists and Dictionaries\n",
    "\n",
    "# 1. Create a list of your favorite books.\n",
    "# 2. Create a dictionary with your favorite book's title, author, and year of publication.\n",
    "# 3. Print the list and the dictionary.\n",
    "# 4. Add a new book to the list and update the dictionary with a new book's information.\n",
    "# 5. Print the updated list and dictionary."
   ]
  }
 ],
 "metadata": {
  "kernelspec": {
   "display_name": "base",
   "language": "python",
   "name": "python3"
  },
  "language_info": {
   "codemirror_mode": {
    "name": "ipython",
    "version": 3
   },
   "file_extension": ".py",
   "mimetype": "text/x-python",
   "name": "python",
   "nbconvert_exporter": "python",
   "pygments_lexer": "ipython3",
   "version": "3.10.9"
  }
 },
 "nbformat": 4,
 "nbformat_minor": 5
}
