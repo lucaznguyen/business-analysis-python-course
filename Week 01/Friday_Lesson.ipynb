{
 "cells": [
  {
   "cell_type": "code",
   "execution_count": 11,
   "id": "036c0b51",
   "metadata": {},
   "outputs": [
    {
     "name": "stdout",
     "output_type": "stream",
     "text": [
      "x is greater than y: False\n",
      "x is less than y: True\n",
      "x is equal to y: False\n",
      "x is not equal to y: True\n",
      "x is greater than or equal to y: False\n",
      "x is less than or equal to y: True\n",
      "x is greater than 5 and y is less than 30: True\n",
      "x is less than 5 and y is greater than 15: False\n",
      "x is less than 5 or y is greater than 15: True\n",
      "x is greater than 15 or y is less than 25: True\n",
      "It is not true that x is less than y: False\n",
      "It is not true that x is greater than 15 or y is less than 10: True\n",
      "Complex expression result: True\n"
     ]
    }
   ],
   "source": [
    "# Basic Boolean expression evaluator\n",
    "\n",
    "x = 10\n",
    "y = 20\n",
    "\n",
    "print(\"x is greater than y:\", x > y)\n",
    "print(\"x is less than y:\", x < y)\n",
    "print(\"x is equal to y:\", x == y)\n",
    "print(\"x is not equal to y:\", x != y)\n",
    "\n",
    "print(\"x is greater than or equal to y:\", x >= y)\n",
    "print(\"x is less than or equal to y:\", x <= y)\n",
    "\n",
    "# Additional Boolean expressions\n",
    "# Logical AND\n",
    "print(\"x is greater than 5 and y is less than 30:\", x > 5 and y < 30)\n",
    "print(\"x is less than 5 and y is greater than 15:\", x < 5 and y > 15)\n",
    "\n",
    "# Logical OR\n",
    "print(\"x is less than 5 or y is greater than 15:\", x < 5 or y > 15)\n",
    "print(\"x is greater than 15 or y is less than 25:\", x > 15 or y < 25)\n",
    "\n",
    "# Logical NOT\n",
    "print(\"It is not true that x is less than y:\", not (x < y))\n",
    "\n",
    "# Hard example\n",
    "print(\"It is not true that x is greater than 15 or y is less than 10:\", not (x > 15 or y < 10))\n",
    "# Complex expression\n",
    "print(\"Complex expression result:\", (x > 5 and y < 30) or (x < 15 and y > 25))"
   ]
  },
  {
   "cell_type": "code",
   "execution_count": null,
   "id": "8e0581a4",
   "metadata": {},
   "outputs": [
    {
     "name": "stdout",
     "output_type": "stream",
     "text": [
      "Thinh is ugly.\n",
      "Thinh is ugly.\n",
      "Nhi is beautiful.\n"
     ]
    }
   ],
   "source": [
    "# If statement with Boolean expression\n",
    "\"\"\"\n",
    "Formula:\n",
    "if {expression}:\n",
    "    {action}\n",
    "else:\n",
    "    {alternative action}\n",
    "\"\"\"\n",
    "\n",
    "x = 20\n",
    "y = 20\n",
    "\n",
    "# Example 1\n",
    "if x > y:\n",
    "    print(\"Nhi is beautiful.\")\n",
    "else:\n",
    "    print(\"Thinh is ugly.\")\n",
    "\n",
    "# Example 2\n",
    "if x < y:\n",
    "    print(\"Nhi is beautiful.\")\n",
    "else:\n",
    "    print(\"Thinh is ugly.\")\n",
    "\n",
    "# Example 3\n",
    "if x == y:\n",
    "    print(\"Nhi is beautiful.\")\n",
    "else:\n",
    "    print(\"Thinh is ugly.\")\n",
    "\n",
    "# Example 4\n",
    "if x != y:\n",
    "    print(\"Nhi is beautiful.\")\n",
    "\n",
    "# Example 5"
   ]
  },
  {
   "cell_type": "code",
   "execution_count": null,
   "id": "ed08c6dd",
   "metadata": {},
   "outputs": [
    {
     "name": "stdout",
     "output_type": "stream",
     "text": [
      "Grade: D or lower\n"
     ]
    }
   ],
   "source": [
    "# Real-world example\n",
    "score = 5\n",
    "if score >= 90:\n",
    "    print(\"Grade: A\")\n",
    "elif score >= 80:\n",
    "    print(\"Grade: B\")\n",
    "elif score >= 70:\n",
    "    print(\"Grade: C\")\n",
    "else:\n",
    "    print(\"Grade: D or lower\")\n",
    "\n",
    "# Real-world example 02\n",
    "\n",
    "age = 18\n",
    "if age >= 18:\n",
    "    print(\"You are eligible to vote.\")\n",
    "else:\n",
    "    print(\"You are not eligible to vote.\")"
   ]
  },
  {
   "cell_type": "code",
   "execution_count": 22,
   "id": "8563ba04",
   "metadata": {},
   "outputs": [
    {
     "name": "stdout",
     "output_type": "stream",
     "text": [
      "Type: <class 'str'>\n",
      "The number is odd.\n"
     ]
    }
   ],
   "source": [
    "# Input from keyboard\n",
    "user_input = input(\"Enter a number: \")\n",
    "\n",
    "print(\"Type:\", type(user_input))\n",
    "\n",
    "# Convert input to integer\n",
    "number = int(user_input)\n",
    "\n",
    "# Check if the number is even or odd\n",
    "if number % 2 == 0:\n",
    "    print(\"The number is even.\")\n",
    "else:\n",
    "    print(\"The number is odd.\")\n"
   ]
  },
  {
   "cell_type": "code",
   "execution_count": 26,
   "id": "5642a96e",
   "metadata": {},
   "outputs": [
    {
     "name": "stdout",
     "output_type": "stream",
     "text": [
      "Iteration: 0\n",
      "Iteration: 1\n",
      "Iteration: 2\n",
      "Iteration: 3\n",
      "Iteration: 4\n",
      "Fruit: apple\n",
      "Fruit: banana\n",
      "Fruit: cherry\n",
      "Character: H\n",
      "Character: e\n",
      "Character: l\n",
      "Character: l\n",
      "Character: o\n"
     ]
    }
   ],
   "source": [
    "# Loop operations\n",
    "\"\"\"\n",
    "Loop operations are used to repeat a block of code multiple times.\n",
    "There are two main types of loops in Python: for loops and while loops.\n",
    "\n",
    "For loops are used to iterate over a sequence (like a list or a string) or a range of numbers.\n",
    "While loops are used to repeat a block of code as long as a certain condition is true.\n",
    "\n",
    "Formula:\n",
    "for {variable} in {sequence}:\n",
    "    {action}\n",
    "\n",
    "while {condition}:\n",
    "    {action}\n",
    "\"\"\"\n",
    "\n",
    "# For loop example\n",
    "for i in range(5): #range(5) or range(0, 5)\n",
    "    print(\"Iteration:\", i)\n",
    "\n",
    "# For loop with a list\n",
    "nhi = [\"apple\", \"banana\", \"cherry\"]\n",
    "for x in nhi:\n",
    "    print(\"Fruit:\", x)\n",
    "\n",
    "# For loop with a string\n",
    "stri = \"Hello\"\n",
    "for char in stri:\n",
    "    print(\"Character:\", char)"
   ]
  },
  {
   "cell_type": "code",
   "execution_count": null,
   "id": "065ecf8a",
   "metadata": {},
   "outputs": [],
   "source": [
    "# Exercises about if else\n",
    "\n",
    "# Exercise 1: Check if a number is positive, negative, or zero\n",
    "# Exercise 2: Determine the day of the week based on a number input (1-7)\n",
    "# Exercise 3: Check if a year is a leap year or not\n",
    "\n",
    "# Exercise 4: Check if a number is within a specific range (e.g., 1-100)\n",
    "# Exercise 5: Check if a number is a multiple of another number (e.g., 3 or 5)\n",
    "# Exercise 6: Check if a number is square (e.g., 1, 4, 9, 16, etc.)"
   ]
  },
  {
   "cell_type": "code",
   "execution_count": null,
   "id": "60c5e2af",
   "metadata": {},
   "outputs": [
    {
     "name": "stdout",
     "output_type": "stream",
     "text": [
      "Number: 1\n",
      "Number: 2\n",
      "Number: 3\n",
      "Number: 4\n",
      "Number: 5\n",
      "Number: 6\n",
      "Number: 7\n",
      "Number: 8\n",
      "Number: 9\n",
      "Number: 10\n",
      "Even number: 0\n",
      "Even number: 2\n",
      "Even number: 4\n",
      "Even number: 6\n",
      "Even number: 8\n",
      "Even number: 10\n",
      "Even number: 12\n",
      "Even number: 14\n",
      "Even number: 16\n",
      "Even number: 18\n",
      "Even number: 2\n",
      "Even number: 4\n",
      "Even number: 6\n",
      "Even number: 8\n",
      "Even number: 10\n",
      "Even number: 12\n",
      "Even number: 14\n",
      "Even number: 16\n",
      "Even number: 18\n",
      "Even number: 20\n",
      "Odd number: 1\n",
      "Odd number: 3\n",
      "Odd number: 5\n",
      "Odd number: 7\n",
      "Odd number: 9\n",
      "Odd number: 11\n",
      "Odd number: 13\n",
      "Odd number: 15\n",
      "Odd number: 17\n",
      "Odd number: 19\n",
      "Odd number: 1\n",
      "Odd number: 3\n",
      "Odd number: 5\n",
      "Odd number: 7\n",
      "Odd number: 9\n",
      "Odd number: 11\n",
      "Odd number: 13\n",
      "Odd number: 15\n",
      "Odd number: 17\n",
      "Odd number: 19\n",
      "5 x 1 = 5\n",
      "5 x 2 = 10\n",
      "5 x 3 = 15\n",
      "5 x 4 = 20\n",
      "5 x 5 = 25\n",
      "5 x 6 = 30\n",
      "5 x 7 = 35\n",
      "5 x 8 = 40\n",
      "5 x 9 = 45\n",
      "5 x 10 = 50\n",
      "Sum of first 1 natural numbers: 1\n",
      "Sum of first 2 natural numbers: 3\n",
      "Sum of first 3 natural numbers: 6\n",
      "Sum of first 4 natural numbers: 10\n",
      "Sum of first 5 natural numbers: 15\n",
      "Sum of first 6 natural numbers: 21\n",
      "Sum of first 7 natural numbers: 28\n",
      "Sum of first 8 natural numbers: 36\n",
      "Sum of first 9 natural numbers: 45\n",
      "Sum of first 10 natural numbers: 55\n",
      "Factorial of 5 is 120\n"
     ]
    }
   ],
   "source": [
    "# Exercise about for loops\n",
    "\n",
    "# Exercise 1: Print numbers from 1 to 10\n",
    "for i in range(1, 11):\n",
    "    print(\"Number:\", i)\n",
    "\n",
    "# Exercise 2: Print the first 10 even numbers\n",
    "for i in range(0, 20, 2):\n",
    "    print(\"Even number:\", i)\n",
    "\n",
    "for i in range(1, 21):\n",
    "    if i % 2 == 0:\n",
    "        print(\"Even number:\", i)\n",
    "\n",
    "# Exercise 3: Print the first 10 odd numbers\n",
    "for i in range(1, 20, 2):\n",
    "    print(\"Odd number:\", i)\n",
    "\n",
    "for i in range(1, 21):\n",
    "    if i % 2 != 0:\n",
    "        print(\"Odd number:\", i)\n",
    "\n",
    "# Exercise 4: Print the multiplication table for a given number\n",
    "for i in range(1, 11):\n",
    "    number = 5  # Change this to any number you want\n",
    "    print(f\"{number} x {i} = {number * i}\")\n",
    "\n",
    "# Exercise 5: Print the sum of the first 10 natural numbers\n",
    "for i in range(1, 11):\n",
    "    print(\"Sum of first\", i, \"natural numbers:\", sum(range(1, i + 1)))\n",
    "\n",
    "# Exercise 6: Print the factorial of a number\n",
    "number = 5  # Change this to any number you want\n",
    "factorial = 1\n",
    "for i in range(1, number + 1):\n",
    "    factorial *= i\n",
    "print(f\"Factorial of {number} is {factorial}\")"
   ]
  },
  {
   "cell_type": "code",
   "execution_count": null,
   "id": "946dc55b",
   "metadata": {},
   "outputs": [
    {
     "name": "stdout",
     "output_type": "stream",
     "text": [
      "5 x 1 = 5\n",
      "5 x 2 = 10\n",
      "5 x 3 = 15\n",
      "5 x 4 = 20\n",
      "5 x 5 = 25\n",
      "5 x 6 = 30\n",
      "5 x 7 = 35\n",
      "5 x 8 = 40\n",
      "5 x 9 = 45\n",
      "5 x 10 = 50\n"
     ]
    }
   ],
   "source": [
    "# Exercise 4: Print the multiplication table for a given number\n",
    "for i in range(1, 11):\n",
    "    number = 5  # Change this to any number you want\n",
    "    print(f\"{number} x {i} = {number * i}\")"
   ]
  },
  {
   "cell_type": "code",
   "execution_count": null,
   "id": "720ab5d5",
   "metadata": {},
   "outputs": [],
   "source": [
    "# Exercise 6: Print the factorial of a number\n",
    "number = 5  # Change this to any number you want\n",
    "factorial = 1\n",
    "for i in range(1, number + 1):\n",
    "    factorial = factorial * i\n",
    "print(f\"Factorial of {number} is {factorial}\")"
   ]
  },
  {
   "cell_type": "code",
   "execution_count": 1,
   "id": "7ba8276b",
   "metadata": {},
   "outputs": [
    {
     "name": "stdout",
     "output_type": "stream",
     "text": [
      "Sum of first 100 natural numbers: 5060\n",
      "Sum of first 100 natural numbers: 5060\n"
     ]
    }
   ],
   "source": [
    "# Exercise 7: Print the sum of the first N natural numbers\n",
    "\n",
    "number = 100\n",
    "\n",
    "sum_num = 0\n",
    "\n",
    "sum_num = sum_num + 1\n",
    "sum_num = sum_num + 2\n",
    "sum_num = sum_num + 3\n",
    "sum_num = sum_num + 4\n",
    "\n",
    "for i in range(1, number + 1):\n",
    "    sum_num = sum_num + i\n",
    "\n",
    "print(\"Sum of first\", number, \"natural numbers:\", sum_num)\n",
    "print(f\"Sum of first {number} natural numbers: {sum_num}\")\n"
   ]
  },
  {
   "cell_type": "code",
   "execution_count": 4,
   "id": "44ae392c",
   "metadata": {},
   "outputs": [
    {
     "name": "stdout",
     "output_type": "stream",
     "text": [
      "30\n"
     ]
    }
   ],
   "source": [
    "# Example\n",
    "a = 10\n",
    "b = 20\n",
    "\n",
    "# I want to add a and b and replace a with the result\n",
    "a = a + b\n",
    "print(a)"
   ]
  },
  {
   "cell_type": "code",
   "execution_count": 5,
   "id": "36b7ae8f",
   "metadata": {},
   "outputs": [
    {
     "name": "stdout",
     "output_type": "stream",
     "text": [
      "50\n"
     ]
    }
   ],
   "source": [
    "a = a + b\n",
    "print(a)"
   ]
  },
  {
   "cell_type": "code",
   "execution_count": 6,
   "id": "cd07c7cb",
   "metadata": {},
   "outputs": [
    {
     "name": "stdout",
     "output_type": "stream",
     "text": [
      "100\n"
     ]
    }
   ],
   "source": [
    "b = a + a\n",
    "print(b)"
   ]
  },
  {
   "cell_type": "code",
   "execution_count": null,
   "id": "e10daafb",
   "metadata": {},
   "outputs": [
    {
     "name": "stdout",
     "output_type": "stream",
     "text": [
      "81\n"
     ]
    }
   ],
   "source": [
    "# Exercise 5: In số mũ của một số (a^b)\n",
    "\n",
    "a=3\n",
    "b=4\n",
    "\n",
    "k = 1\n",
    "\n",
    "k = k * a\n",
    "k = k * a\n",
    "\n",
    "for i in range(1, b+1):\n",
    "    k = k * a\n",
    "\n",
    "print(k)"
   ]
  },
  {
   "cell_type": "code",
   "execution_count": 13,
   "id": "495346f9",
   "metadata": {},
   "outputs": [
    {
     "name": "stdout",
     "output_type": "stream",
     "text": [
      "12207030\n"
     ]
    }
   ],
   "source": [
    "# Calculate s = a^1 + a^2 + a^3 + a^n\n",
    "n = 10\n",
    "a = 5\n",
    "\n",
    "s = 0\n",
    "\n",
    "for i in range(1, n+1):\n",
    "    s = s + a**i\n",
    "\n",
    "print(s)"
   ]
  },
  {
   "cell_type": "code",
   "execution_count": null,
   "id": "350e8529",
   "metadata": {},
   "outputs": [],
   "source": [
    "# Calculate s = 1/1 + 1/2 + 1/3 + ... + 1/n\n",
    "n = 10\n",
    "\n",
    "s= 0\n",
    "s = s + 1/1\n",
    "s = s + 1/2\n",
    "s = s + 1/3\n",
    "\n",
    "\n",
    "\n"
   ]
  },
  {
   "cell_type": "code",
   "execution_count": null,
   "id": "7aaf7824",
   "metadata": {},
   "outputs": [],
   "source": [
    "# Calculate s = 1/2 +2/2 + 3/2 + ... + n/2\n",
    "n = 10\n",
    "\n",
    "s = 0\n",
    "for i in range(1, n + 1):\n",
    "    s = s + i / 2"
   ]
  },
  {
   "cell_type": "code",
   "execution_count": null,
   "id": "e0dcac3b",
   "metadata": {},
   "outputs": [],
   "source": [
    "# Calculate s = 1/3 * 2/3 * 3/3 * ... * n/3\n",
    "n = 10\n",
    "s = 1\n",
    "for i in range(1, n + 1):\n",
    "    s = s * i / 3"
   ]
  },
  {
   "cell_type": "code",
   "execution_count": null,
   "id": "81e39532",
   "metadata": {},
   "outputs": [],
   "source": [
    "# calculate s = 1 * 2 * 3 * ... * n\n",
    "n = 10\n",
    "s = 1\n",
    "for i in range(1, n + 1):\n",
    "    s = s * i"
   ]
  }
 ],
 "metadata": {
  "kernelspec": {
   "display_name": "base",
   "language": "python",
   "name": "python3"
  },
  "language_info": {
   "codemirror_mode": {
    "name": "ipython",
    "version": 3
   },
   "file_extension": ".py",
   "mimetype": "text/x-python",
   "name": "python",
   "nbconvert_exporter": "python",
   "pygments_lexer": "ipython3",
   "version": "3.10.9"
  }
 },
 "nbformat": 4,
 "nbformat_minor": 5
}
