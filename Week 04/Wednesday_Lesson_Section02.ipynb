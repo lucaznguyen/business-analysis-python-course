{
 "cells": [
  {
   "cell_type": "markdown",
   "id": "8e658660",
   "metadata": {},
   "source": [
    "## Table of Contents\n",
    "\n",
    "1. **NumPy Basics**\n",
    "   - 1.1 Arrays, dtypes, shapes, reshape\n",
    "   - 1.2 Indexing, slicing\n",
    "   - 1.3 Boolean & fancy indexing; views vs copies\n",
    "   - 1.4 Broadcasting & vectorization\n",
    "   - 1.5 Concatenate, split, sort, stats\n",
    "   - 1.6 Random generator (default_rng), reproducibility\n",
    "   - 1.7 Quick visualizations\n",
    "   - 1.8 Exercises\n",
    "\n",
    "2. **Pandas Basics**\n",
    "   - 2.1 Series & DataFrame\n",
    "   - 2.2 CSV I/O (parse_dates, na_values)\n",
    "   - 2.3 Indexing & selection (.loc/.iloc/.query), new columns\n",
    "   - 2.4 EDA & basic charts\n",
    "   - 2.5 Sort, nlargest, duplicates\n",
    "   - 2.6 Exercises\n",
    "\n",
    "3. **Advanced Cleaning & Time Series**\n",
    "   - 3.1 Missing values: dropna, fillna, interpolate, ffill/bfill (per group)\n",
    "   - 3.2 Duplicates, dtype normalization, rename, reindex\n",
    "   - 3.3 Strings: strip/replace/extract; categories; one‑hot\n",
    "   - 3.4 Outliers: IQR, winsorize, MAD\n",
    "   - 3.5 Merge/Join; anti & semi join; groupby; pivot/melt; crosstab\n",
    "   - 3.6 Rolling/expanding/EWM; resample; gaps & reindex\n",
    "   - 3.7 Performance & safety: vectorization vs .apply, .assign/.query/.eval, memory optimization\n",
    "   - 3.8 Timezones & DST\n",
    "   - 3.9 Chunked CSV processing\n",
    "   - 3.10 `merge_asof` for nearest timestamp joins\n",
    "\n",
    "4. **Case Studies**\n",
    "   - 4.1 Retail daily sales: clean + MA + resample\n",
    "   - 4.2 Customers & transactions: CLV‑like aggregation\n",
    "   - 4.3 A/B testing: conversions, timestamps, z‑test\n",
    "   - 4.4 Messy CSV: currencies (unicode minus, parentheses negatives), mixed dates\n",
    "   - 4.5 Missingness matrix visualization\n",
    "   - 4.6 Text normalization (names, email/phone, split city/state)\n",
    "   - 4.7 Time series gaps & aggregates (W/M)\n",
    "   - 4.8 IoT spikes: detect via MAD; rolling median smoothing\n",
    "   - 4.9 Cohort analysis (signups vs retention)\n",
    "   - 4.10 Event labeling with `merge_asof`\n",
    "\n",
    "5. **Comprehensive Exercises + Hints**\n",
    "\n",
    "6. **Quick Cheat Sheet**\n",
    "\n",
    "7. **Appendix: Common Pitfalls & Fixes**\n"
   ]
  },
  {
   "cell_type": "code",
   "execution_count": 1,
   "id": "276d9adb",
   "metadata": {},
   "outputs": [
    {
     "name": "stdout",
     "output_type": "stream",
     "text": [
      "NumPy: 2.3.2\n",
      "Pandas: 2.3.1\n",
      "copy_on_write enabled\n"
     ]
    }
   ],
   "source": [
    "import numpy as np\n",
    "import pandas as pd\n",
    "import matplotlib.pyplot as plt\n",
    "import os\n",
    "\n",
    "print(\"NumPy:\", np.__version__)\n",
    "print(\"Pandas:\", pd.__version__)\n",
    "\n",
    "pd.set_option(\"display.max_rows\", 30)\n",
    "pd.set_option(\"display.max_columns\", 30)\n",
    "pd.set_option(\"display.width\", 140)\n",
    "\n",
    "np.random.seed(42)\n",
    "os.makedirs(\"data\", exist_ok=True)\n",
    "\n",
    "# Safer writes in Pandas ≥2.0 (avoid chained assignment issues)\n",
    "try:\n",
    "    pd.options.mode.copy_on_write = True\n",
    "    print(\"copy_on_write enabled\")\n",
    "except Exception as e:\n",
    "    print(\"copy_on_write not available:\", e)\n"
   ]
  },
  {
   "cell_type": "markdown",
   "id": "d80b28eb",
   "metadata": {},
   "source": [
    "### 2.1 Series & DataFrame\n",
    "Inspect `.info()`, `.describe()`, dtypes, and memory usage.\n"
   ]
  },
  {
   "cell_type": "code",
   "execution_count": 6,
   "id": "18c1cf53",
   "metadata": {},
   "outputs": [
    {
     "name": "stdout",
     "output_type": "stream",
     "text": [
      "a    10\n",
      "b    20\n",
      "c    30\n",
      "Name: score, dtype: int64\n",
      "   id  name  age  income\n",
      "0   1    An   23    12.5\n",
      "1   2  Binh   35    21.0\n",
      "2   3   Chi   29    15.0\n",
      "3   4  Dung   41    28.5\n",
      "Info:\n",
      "<class 'pandas.core.frame.DataFrame'>\n",
      "RangeIndex: 4 entries, 0 to 3\n",
      "Data columns (total 4 columns):\n",
      " #   Column  Non-Null Count  Dtype  \n",
      "---  ------  --------------  -----  \n",
      " 0   id      4 non-null      int64  \n",
      " 1   name    4 non-null      object \n",
      " 2   age     4 non-null      int64  \n",
      " 3   income  4 non-null      float64\n",
      "dtypes: float64(1), int64(2), object(1)\n",
      "memory usage: 260.0+ bytes\n",
      "None\n",
      "Describe (all):\n",
      "              id name        age     income\n",
      "count   4.000000    4   4.000000   4.000000\n",
      "unique       NaN    4        NaN        NaN\n",
      "top          NaN   An        NaN        NaN\n",
      "freq         NaN    1        NaN        NaN\n",
      "mean    2.500000  NaN  32.000000  19.250000\n",
      "std     1.290994  NaN   7.745967   7.123903\n",
      "min     1.000000  NaN  23.000000  12.500000\n",
      "25%     1.750000  NaN  27.500000  14.375000\n",
      "50%     2.500000  NaN  32.000000  18.000000\n",
      "75%     3.250000  NaN  36.500000  22.875000\n",
      "max     4.000000  NaN  41.000000  28.500000\n",
      "Memory (deep):\n",
      "Index     132\n",
      "id         32\n",
      "name      209\n",
      "age        32\n",
      "income     32\n",
      "dtype: int64\n"
     ]
    }
   ],
   "source": [
    "s = pd.Series([10, 20, 30], index=[\"a\", \"b\", \"c\"], name=\"score\")\n",
    "print(s)\n",
    "\n",
    "df = pd.DataFrame({\n",
    "    \"id\": [1, 2, 3, 4],\n",
    "    \"name\": [\"An\", \"Binh\", \"Chi\", \"Dung\"],\n",
    "    \"age\": [23, 35, 29, 41],\n",
    "    \"income\": [12.5, 21.0, 15.0, 28.5]\n",
    "})\n",
    "print(df)\n",
    "\n",
    "print(\"Info:\")\n",
    "print(df.info())\n",
    "print(\"Describe (all):\")\n",
    "print(df.describe(include=\"all\"))\n",
    "print(\"Memory (deep):\")\n",
    "print(df.memory_usage(deep=True))\n"
   ]
  },
  {
   "cell_type": "markdown",
   "id": "1964c47b",
   "metadata": {},
   "source": [
    "### 2.2 CSV I/O (parse_dates, na_values)\n",
    "Save & load CSV with parsed dates; copy a file.\n"
   ]
  },
  {
   "cell_type": "code",
   "execution_count": 7,
   "id": "73d77548",
   "metadata": {},
   "outputs": [
    {
     "name": "stdout",
     "output_type": "stream",
     "text": [
      "        date city  sales  discount\n",
      "0 2025-01-01  HCM    101      0.26\n",
      "1 2025-01-02   HN    142      0.18\n",
      "2 2025-01-03  HCM     64      0.21\n",
      "3 2025-01-04   DN    121      0.01\n",
      "4 2025-01-05  HUE    110      0.29\n"
     ]
    }
   ],
   "source": [
    "toy = pd.DataFrame({\n",
    "    \"date\": pd.date_range(\"2025-01-01\", periods=10, freq=\"D\"),\n",
    "    \"city\": [\"HCM\",\"HN\",\"HCM\",\"DN\",\"HUE\",\"HN\",\"HCM\",\"DN\",\"HUE\",\"HN\"],\n",
    "    \"sales\": np.random.randint(50, 150, size=10),\n",
    "    \"discount\": np.round(np.random.rand(10)*0.3, 2)\n",
    "})\n",
    "toy.to_csv(\"data/toy_sales.csv\", index=False)\n",
    "\n",
    "df_toy = pd.read_csv(\"data/toy_sales.csv\", parse_dates=[\"date\"])\n",
    "print(df_toy.head())\n",
    "\n",
    "df_toy.to_csv(\"data/toy_sales_copy.csv\", index=False)\n"
   ]
  },
  {
   "cell_type": "markdown",
   "id": "aaaf5b11",
   "metadata": {},
   "source": [
    "### 2.3 Indexing & selection; new columns\n",
    "Use `.loc/.iloc`, boolean masks, `.assign`, and date parts. Avoid chained assignment; use `.loc`.\n"
   ]
  },
  {
   "cell_type": "code",
   "execution_count": 8,
   "id": "5f08c0e3",
   "metadata": {},
   "outputs": [
    {
     "name": "stdout",
     "output_type": "stream",
     "text": [
      "        date city\n",
      "0 2025-01-01  HCM\n",
      "1 2025-01-02   HN\n",
      "2 2025-01-03  HCM\n",
      "3 2025-01-04   DN\n",
      "4 2025-01-05  HUE\n",
      "        date city  sales\n",
      "0 2025-01-01  HCM    101\n",
      "1 2025-01-02   HN    142\n",
      "2 2025-01-03  HCM     64\n",
      "        date city  sales  discount\n",
      "0 2025-01-01  HCM    101      0.26\n",
      "6 2025-01-07  HCM    132      0.06\n",
      "        date city  sales  discount  revenue        day\n",
      "0 2025-01-01  HCM    101      0.26    74.74  Wednesday\n",
      "1 2025-01-02   HN    142      0.18   116.44   Thursday\n",
      "2 2025-01-03  HCM     64      0.21    50.56     Friday\n",
      "3 2025-01-04   DN    121      0.01   119.79   Saturday\n",
      "4 2025-01-05  HUE    110      0.29    78.10     Sunday\n",
      "        date city  sales  discount  revenue        day\n",
      "7 2025-01-08   DN    136      0.05   129.20  Wednesday\n",
      "3 2025-01-04   DN    121      0.01   119.79   Saturday\n",
      "6 2025-01-07  HCM    132      0.06   124.08    Tuesday\n",
      "0 2025-01-01  HCM    101      0.26    74.74  Wednesday\n",
      "2 2025-01-03  HCM     64      0.21    50.56     Friday\n"
     ]
    }
   ],
   "source": [
    "df = df_toy.copy()\n",
    "\n",
    "print(df.loc[:, [\"date\", \"city\"]].head())\n",
    "print(df.iloc[0:3, 0:3])\n",
    "\n",
    "mask = (df[\"city\"] == \"HCM\") & (df[\"sales\"] > 80)\n",
    "print(df[mask].head())\n",
    "\n",
    "df = (df\n",
    "      .assign(revenue = df[\"sales\"] * (1 - df[\"discount\"]),\n",
    "              day = df[\"date\"].dt.day_name()))\n",
    "print(df.head())\n",
    "\n",
    "print(df.sort_values([\"city\", \"sales\"], ascending=[True, False]).head())\n"
   ]
  },
  {
   "cell_type": "markdown",
   "id": "9d8094c8",
   "metadata": {},
   "source": [
    "### 2.4 EDA & basic charts\n"
   ]
  },
  {
   "cell_type": "code",
   "execution_count": null,
   "id": "f90ce8db",
   "metadata": {},
   "outputs": [
    {
     "name": "stdout",
     "output_type": "stream",
     "text": [
      "Unique cities: ['HCM' 'HN' 'DN' 'HUE']\n",
      "Counts by city:\n",
      " city\n",
      "HCM    3\n",
      "HN     3\n",
      "DN     2\n",
      "HUE    2\n",
      "Name: count, dtype: int64\n",
      "Dataframe:\n",
      "   city  count        mean     sum\n",
      "0   DN      2  124.495000  248.99\n",
      "1  HCM      3   83.126667  249.38\n",
      "2   HN      3   93.926667  281.78\n",
      "3  HUE      2   97.330000  194.66\n"
     ]
    },
    {
     "data": {
      "text/plain": [
       "Text(0.5, 1.0, 'Total revenue by city')"
      ]
     },
     "execution_count": 14,
     "metadata": {},
     "output_type": "execute_result"
    },
    {
     "data": {
      "image/png": "[encoded data removed]",
      "text/plain": [
       "<Figure size 640x480 with 1 Axes>"
      ]
     },
     "metadata": {},
     "output_type": "display_data"
    }
   ],
   "source": [
    "print(\"Unique cities:\", df[\"city\"].unique())\n",
    "print(\"Counts by city:\\n\", df[\"city\"].value_counts())\n",
    "\n",
    "g = df.groupby(\"city\")[\"revenue\"].agg([\"count\",\"mean\",\"sum\"]).reset_index()\n",
    "print(\"Dataframe:\\n\", g)\n",
    "\n",
    "plt.figure()\n",
    "plt.bar(g[\"city\"], g[\"sum\"])\n",
    "plt.title(\"Total revenue by city\")\n",
    "plt.show()\n",
    "\n",
    "# plt.figure()\n",
    "# plt.hist(df[\"sales\"], bins=10)\n",
    "# plt.title(\"Sales distribution\")\n",
    "# plt.show()\n",
    "\n",
    "# plt.figure()\n",
    "# plt.scatter(df[\"sales\"], df[\"discount\"])\n",
    "# plt.title(\"Sales vs Discount\")\n",
    "# plt.show()\n",
    "\n",
    "# plt.figure()\n",
    "# df_sorted = df.sort_values(\"date\")\n",
    "# plt.plot(df_sorted[\"date\"], df_sorted[\"revenue\"])\n",
    "# plt.title(\"Revenue over time (toy)\")\n",
    "# plt.xticks(rotation=30)\n",
    "# plt.show()\n"
   ]
  },
  {
   "cell_type": "markdown",
   "id": "51579b4c",
   "metadata": {},
   "source": [
    "### 2.5 Sort, nlargest, duplicates\n"
   ]
  },
  {
   "cell_type": "code",
   "execution_count": 7,
   "id": "2e9760c5",
   "metadata": {},
   "outputs": [
    {
     "name": "stdout",
     "output_type": "stream",
     "text": [
      "Top 5 by revenue:\n",
      "         date city  sales  discount  revenue        day\n",
      "7 2025-01-08   DN    136      0.05   129.20  Wednesday\n",
      "6 2025-01-07  HCM    132      0.06   124.08    Tuesday\n",
      "3 2025-01-04   DN    121      0.01   119.79   Saturday\n",
      "8 2025-01-09  HUE    124      0.06   116.56   Thursday\n",
      "1 2025-01-02   HN    142      0.18   116.44   Thursday\n",
      "Has duplicates? total rows: 12  unique rows: 10\n"
     ]
    }
   ],
   "source": [
    "top5 = df.nlargest(5, \"revenue\")\n",
    "print(\"Top 5 by revenue:\\n\", top5)\n",
    "\n",
    "dupes = pd.concat([df_toy, df_toy.iloc[:2]], ignore_index=True)\n",
    "print(\"Has duplicates? total rows:\", len(dupes), \" unique rows:\", len(dupes.drop_duplicates()))\n"
   ]
  },
  {
   "cell_type": "markdown",
   "id": "5ecf189e",
   "metadata": {},
   "source": [
    "### 2.6 Exercises\n",
    "1) From `toy_sales.csv`, compute average **revenue** by `day`. Plot bar.  \n",
    "2) Create `city_code` mapping `{\"HCM\":1,\"HN\":2,\"DN\":3,\"HUE\":4}` and sort by it.  \n",
    "3) Filter top 5 dates by revenue and plot only those dates’ revenue over time.\n"
   ]
  }
 ],
 "metadata": {
  "kernelspec": {
   "display_name": "base",
   "language": "python",
   "name": "python3"
  },
  "language_info": {
   "codemirror_mode": {
    "name": "ipython",
    "version": 3
   },
   "file_extension": ".py",
   "mimetype": "text/x-python",
   "name": "python",
   "nbconvert_exporter": "python",
   "pygments_lexer": "ipython3",
   "version": "3.13.5"
  }
 },
 "nbformat": 4,
 "nbformat_minor": 5
}
