{
 "cells": [
  {
   "cell_type": "code",
   "execution_count": null,
   "id": "a085d410",
   "metadata": {},
   "outputs": [],
   "source": [
    "# Cell 1: Imports & Sample Data Creation\n",
    "import pandas as pd\n",
    "import numpy as np\n",
    "import matplotlib.pyplot as plt\n",
    "\n",
    "# Create a sample dataset with missing values, duplicates, and some noise\n",
    "data = {\n",
    "    'CustomerID': [101, 102, 103, 104, 105, 105, 106, np.nan, 108, 109],\n",
    "    'Name': ['Alice', 'Bob', 'Charlie', 'David', 'Eva', 'Eva', 'Frank', 'Grace', 'Hank', 'Ivy'],\n",
    "    'Age': [25, np.nan, 35, 45, 28, 28, np.nan, 30, 42, 29],\n",
    "    'Country': ['USA', 'UK', 'USA', 'UK', 'UK', 'UK', 'USA', 'UK', np.nan, 'USA'],\n",
    "    'Sales': [250, 300, np.nan, 450, 500, 500, 600, 550, 650, np.nan]\n",
    "}\n",
    "\n",
    "df = pd.DataFrame(data)\n",
    "df\n"
   ]
  },
  {
   "cell_type": "code",
   "execution_count": null,
   "id": "6de44ca7",
   "metadata": {},
   "outputs": [],
   "source": [
    "# Cell 2: Identify Missing Values\n",
    "print(\"Count of missing values per column:\")\n",
    "print(df.isnull().sum())\n",
    "\n",
    "# Visualizing missing values with a simple bar chart\n",
    "df.isnull().sum().plot(kind='bar', title=\"Missing Values per Column\")\n",
    "plt.show()\n"
   ]
  },
  {
   "cell_type": "code",
   "execution_count": null,
   "id": "a51e0e07",
   "metadata": {},
   "outputs": [],
   "source": [
    "# Cell 3: Dropping Data\n",
    "# Drop rows with any missing value\n",
    "df_drop_any = df.dropna()\n",
    "print(\"After dropping rows with any missing value:\")\n",
    "print(df_drop_any)\n",
    "\n",
    "# Drop rows where all values are missing\n",
    "df_drop_all = df.dropna(how='all')\n",
    "print(\"\\nAfter dropping rows where all values are NaN:\")\n",
    "print(df_drop_all)\n",
    "\n",
    "# Drop columns with too many missing values (threshold)\n",
    "df_drop_thresh = df.dropna(axis=1, thresh=len(df) - 2)  # keep columns with <= 2 missing\n",
    "print(\"\\nAfter dropping columns with too many NaNs:\")\n",
    "print(df_drop_thresh)\n"
   ]
  },
  {
   "cell_type": "code",
   "execution_count": null,
   "id": "3a94729d",
   "metadata": {},
   "outputs": [],
   "source": [
    "# Cell 4: Filling Missing Data\n",
    "# Fill numeric NaNs with the column mean\n",
    "df_fill_mean = df.copy()\n",
    "df_fill_mean['Age'] = df_fill_mean['Age'].fillna(df_fill_mean['Age'].mean())\n",
    "df_fill_mean['Sales'] = df_fill_mean['Sales'].fillna(df_fill_mean['Sales'].mean())\n",
    "\n",
    "# Fill categorical NaNs with the most frequent value (mode)\n",
    "df_fill_mean['Country'] = df_fill_mean['Country'].fillna(df_fill_mean['Country'].mode()[0])\n",
    "\n",
    "print(\"After filling missing values:\")\n",
    "print(df_fill_mean)\n"
   ]
  },
  {
   "cell_type": "code",
   "execution_count": null,
   "id": "6a876aff",
   "metadata": {},
   "outputs": [],
   "source": [
    "# Cell 5: Filtering Data\n",
    "# Filter rows where Sales > 500\n",
    "high_sales = df_fill_mean[df_fill_mean['Sales'] > 500]\n",
    "print(\"Customers with Sales > 500:\")\n",
    "print(high_sales)\n",
    "\n",
    "# Filter rows where Country is 'USA' and Age > 30\n",
    "usa_over_30 = df_fill_mean[(df_fill_mean['Country'] == 'USA') & (df_fill_mean['Age'] > 30)]\n",
    "print(\"\\nUSA customers over 30 years old:\")\n",
    "print(usa_over_30)\n"
   ]
  },
  {
   "cell_type": "code",
   "execution_count": null,
   "id": "ed0ae377",
   "metadata": {},
   "outputs": [],
   "source": [
    "# Cell 6: Removing Duplicates\n",
    "# Identify duplicates\n",
    "print(\"Duplicate rows based on all columns:\")\n",
    "print(df_fill_mean[df_fill_mean.duplicated()])\n",
    "\n",
    "# Remove duplicates keeping the first occurrence\n",
    "df_no_duplicates = df_fill_mean.drop_duplicates()\n",
    "print(\"\\nAfter removing duplicates:\")\n",
    "print(df_no_duplicates)\n"
   ]
  },
  {
   "cell_type": "code",
   "execution_count": null,
   "id": "94df119b",
   "metadata": {},
   "outputs": [],
   "source": [
    "# Cell 7: Basic Data Analysis (mean, median)\n",
    "# Calculate mean and median of numeric columns\n",
    "print(\"Mean values:\\n\", df_no_duplicates.mean(numeric_only=True))\n",
    "print(\"\\nMedian values:\\n\", df_no_duplicates.median(numeric_only=True))\n",
    "\n",
    "# Visualize Sales distribution\n",
    "plt.hist(df_no_duplicates['Sales'], bins=5, edgecolor='black')\n",
    "plt.title(\"Sales Distribution\")\n",
    "plt.xlabel(\"Sales\")\n",
    "plt.ylabel(\"Frequency\")\n",
    "plt.show()\n"
   ]
  },
  {
   "cell_type": "code",
   "execution_count": null,
   "id": "03644ec4",
   "metadata": {},
   "outputs": [],
   "source": [
    "# Cell 8: GroupBy and Aggregate\n",
    "# Group by Country and calculate average Sales and Age\n",
    "country_stats = df_no_duplicates.groupby('Country').agg({\n",
    "    'Sales': ['mean', 'median', 'max', 'min'],\n",
    "    'Age': ['mean', 'median']\n",
    "})\n",
    "print(\"Country-level statistics:\")\n",
    "print(country_stats)\n",
    "\n",
    "# Visualization: Average Sales by Country\n",
    "df_no_duplicates.groupby('Country')['Sales'].mean().plot(kind='bar', title=\"Average Sales by Country\")\n",
    "plt.ylabel(\"Average Sales\")\n",
    "plt.show()\n"
   ]
  },
  {
   "cell_type": "code",
   "execution_count": null,
   "id": "0e8ed8f7",
   "metadata": {},
   "outputs": [],
   "source": [
    "# Cell 9: Multiple Aggregations and Renaming Columns\n",
    "# Group by Country and Name, sum Sales and count transactions\n",
    "detailed_stats = df_no_duplicates.groupby(['Country', 'Name']).agg(\n",
    "    total_sales=('Sales', 'sum'),\n",
    "    transactions=('Sales', 'count'),\n",
    "    avg_age=('Age', 'mean')\n",
    ").reset_index()\n",
    "\n",
    "print(\"Detailed stats per customer per country:\")\n",
    "print(detailed_stats)\n"
   ]
  },
  {
   "cell_type": "code",
   "execution_count": null,
   "id": "7d728e69",
   "metadata": {},
   "outputs": [],
   "source": [
    "# Cell 10: Save Cleaned Data\n",
    "df_no_duplicates.to_csv('cleaned_data.csv', index=False)\n",
    "print(\"Cleaned data saved to cleaned_data.csv\")\n"
   ]
  }
 ],
 "metadata": {
  "language_info": {
   "name": "python"
  }
 },
 "nbformat": 4,
 "nbformat_minor": 5
}
